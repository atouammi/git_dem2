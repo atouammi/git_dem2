{
  "nbformat": 4,
  "nbformat_minor": 0,
  "metadata": {
    "colab": {
      "provenance": [],
      "include_colab_link": true
    },
    "kernelspec": {
      "name": "python3",
      "display_name": "Python 3"
    },
    "language_info": {
      "name": "python"
    }
  },
  "cells": [
    {
      "cell_type": "markdown",
      "metadata": {
        "id": "view-in-github",
        "colab_type": "text"
      },
      "source": [
        "<a href=\"https://colab.research.google.com/github/atouammi/git_dem2/blob/main/Copy_of_Probability%26Statistics_Tutorial_2024_Atou_Koffi_KOUGBANHOUN.ipynb\" target=\"_parent\"><img src=\"https://colab.research.google.com/assets/colab-badge.svg\" alt=\"Open In Colab\"/></a>"
      ]
    },
    {
      "cell_type": "markdown",
      "source": [
        "# AMMI Bootcamp - Probability Distributions and Statistics"
      ],
      "metadata": {
        "id": "NV7EDz4ZiQR3"
      }
    },
    {
      "cell_type": "code",
      "source": [
        "import numpy as np\n",
        "import scipy.linalg as linalg\n",
        "from matplotlib import colors\n",
        "from matplotlib.colors import LightSource\n",
        "from mpl_toolkits.mplot3d import axes3d\n",
        "import os\n",
        "import matplotlib.pyplot as plt\n",
        "import typing"
      ],
      "metadata": {
        "id": "7lH5EWWRu3uA"
      },
      "execution_count": null,
      "outputs": []
    },
    {
      "cell_type": "markdown",
      "source": [
        "# Introduction\n",
        "\n",
        "In some cells and files you will see code blocks that look like this:\n",
        "\n",
        "```python\n",
        "##############################################################################\n",
        "#                    TODO: Write the equation for a line                     #\n",
        "##############################################################################\n",
        "pass\n",
        "##############################################################################\n",
        "#                              END OF YOUR CODE                              #\n",
        "##############################################################################\n",
        "```\n",
        "\n",
        "You should replace the `pass` statement with your own code and leave the blocks intact, like this:\n",
        "\n",
        "```python\n",
        "##############################################################################\n",
        "#                    TODO: Write the equation for a line                     #\n",
        "##############################################################################\n",
        "y = m * x + b\n",
        "##############################################################################\n",
        "#                              END OF YOUR CODE                              #\n",
        "##############################################################################\n",
        "```"
      ],
      "metadata": {
        "id": "BFPp-0rX3r3J"
      }
    },
    {
      "cell_type": "markdown",
      "source": [
        "# Distribution Functions"
      ],
      "metadata": {
        "id": "6fODGHuVs7fL"
      }
    },
    {
      "cell_type": "markdown",
      "source": [
        "### Sigmoid (logistic) function\n",
        "\n",
        "$$\n",
        "\\sigma(x) = \\frac{1}{1+e^{-x}}\n",
        "$$\n",
        "\n",
        "$$\n",
        "\\frac{d}{dx}\\sigma(x) = σ(x)(1-σ(x))\n",
        "$$"
      ],
      "metadata": {
        "id": "aQkue0QAuCay"
      }
    },
    {
      "cell_type": "code",
      "execution_count": null,
      "metadata": {
        "id": "jS9-W6pXs2BD",
        "colab": {
          "base_uri": "https://localhost:8080/",
          "height": 472
        },
        "outputId": "e9c83d9b-24e7-4337-f095-290017f17755"
      },
      "outputs": [
        {
          "output_type": "display_data",
          "data": {
            "text/plain": [
              "<Figure size 640x480 with 1 Axes>"
            ],
            "image/png": "[encoded data removed]"
          },
          "metadata": {}
        }
      ],
      "source": [
        "def sigmoid(x: np.ndarray) -> np.ndarray:\n",
        "  \"\"\"Computes the sigmoid of given inputs\n",
        "  Args:\n",
        "    x: inputs of shape N X 1\n",
        "\n",
        "  Returns:\n",
        "    probs: shape N X 1\n",
        "  \"\"\"\n",
        "  ##########################################################################\n",
        "  #                      TODO: Implement this function                     #\n",
        "  ##########################################################################\n",
        "  # Replace \"pass\" statement with your code\n",
        "  probs = 1/(1+np.exp(-x))\n",
        "  ##########################################################################\n",
        "  #                            END OF YOUR CODE                            #\n",
        "  ##########################################################################\n",
        "  return probs\n",
        "\n",
        "x = np.linspace(-5, 5, 100)\n",
        "y = sigmoid(x)\n",
        "plt.plot(np.zeros(10), np.linspace(0,1, 10), \"-.\")\n",
        "plt.title(\"The Sigmoid Function\")\n",
        "plt.xlabel(\"$x$\")\n",
        "plt.ylabel(\"$p(x)$\")\n",
        "plt.plot(x,y)\n",
        "plt.show()"
      ]
    },
    {
      "cell_type": "code",
      "source": [
        "def d_sigmoid(x: np.ndarray)->np.ndarray:\n",
        "  \"\"\"Computes the derivative of the sigmoid function\n",
        "  Args:\n",
        "    x: inputs of shape N X 1\n",
        "\n",
        "  Returns:\n",
        "    probs: shape N X 1\n",
        "  \"\"\"\n",
        "  ##########################################################################\n",
        "  #                      TODO: Implement this function                     #\n",
        "  ##########################################################################\n",
        "  # Replace \"pass\" statement with your code\n",
        "  probs = sigmoid(x)*(1-sigmoid(x))\n",
        "  ##########################################################################\n",
        "  #                            END OF YOUR CODE                            #\n",
        "  ##########################################################################\n",
        "  return probs\n",
        "\n",
        "x = np.linspace(-5, 5, 100)\n",
        "y = d_sigmoid(x)\n",
        "\n",
        "plt.title(\"The Derivative of a Sigmoid Function\")\n",
        "plt.xlabel(\"$x$\")\n",
        "plt.ylabel(\"$(x)$\")\n",
        "plt.plot(x, y)\n",
        "plt.show()"
      ],
      "metadata": {
        "id": "aG1HkaENYpdm",
        "colab": {
          "base_uri": "https://localhost:8080/",
          "height": 472
        },
        "outputId": "d114c885-fa56-4ef0-a383-10a22a99f920"
      },
      "execution_count": null,
      "outputs": [
        {
          "output_type": "display_data",
          "data": {
            "text/plain": [
              "<Figure size 640x480 with 1 Axes>"
            ],
            "image/png": "[encoded data removed]"
          },
          "metadata": {}
        }
      ]
    },
    {
      "cell_type": "markdown",
      "source": [
        "### Softmax function\n"
      ],
      "metadata": {
        "id": "iaLmOg3gs6ym"
      }
    },
    {
      "cell_type": "markdown",
      "source": [
        "$$\\sigma:\\mathbb{R}^k \\rightarrow (0,1)^k$$\n",
        "$$\\sigma(z_i) = \\frac{e^{z_i}}{\\sum_{j=1}^{k}e^{z_j}}, i = 1,\\dots,k.$$\n",
        "\n",
        "For the better softmax, let\n",
        "$$\\sigma (z_i) = exp(log[\\frac{e^{z_i}}{\\sum e^{z_j}}]) = exp (z_i - log \\sum e^{z_j})$$\n",
        "\n",
        "The logsumexp trick is given by, let\n",
        "\n",
        "$$y = log(\\sum exp(x_i)) →$$\n",
        "$$e^y = \\sum exp(x_i) \\rightarrow$$\n",
        "$$e^y = e^c \\sum exp(x_i) \\rightarrow$$\n",
        "$$y = c + log \\sum exp(x_i -c)$$\n",
        "let\n",
        "$$c = max\\lbrace x_1,\\dots,x_n\\rbrace.$$"
      ],
      "metadata": {
        "id": "uRmAnrkd_kGZ"
      }
    },
    {
      "cell_type": "code",
      "source": [
        "def softmax_function(logits: np.ndarray):\n",
        "  \"\"\"Computes the softmax function given logits\n",
        "  Args:\n",
        "    logits: size Number of samples (N) X Number of classes to distribute probability over (C)\n",
        "\n",
        "  Returns:\n",
        "    probability distribution over categorical variables\n",
        "  \"\"\"\n",
        "  ##########################################################################\n",
        "  #                      TODO: Implement this function                     #\n",
        "  ##########################################################################\n",
        "  # Replace \"pass\" statement with your code\n",
        "  soft_res = np.exp(logits)/(np.sum(np.exp(logits),-1,keepdims=True))\n",
        "  ##########################################################################\n",
        "  #                            END OF YOUR CODE                            #\n",
        "  ##########################################################################\n",
        "  return soft_res\n",
        "\n",
        "\n",
        "def better_softmax_function(logits: np.ndarray):\n",
        "  \"\"\"Computes the softmax function from logits using the more efficient logsumexp trick\n",
        "  Args:\n",
        "    logits: size Number of samples (N) X Number of classes to distribute probability over (C)\n",
        "\n",
        "  Returns:\n",
        "    probability distribution over categorical variables\n",
        "  \"\"\"\n",
        "\n",
        "  def log_sum_exp(logits):\n",
        "    ##########################################################################\n",
        "    #                      TODO: Implement this function                     #\n",
        "    ##########################################################################\n",
        "    # Replace \"pass\" statement with your code\n",
        "    c =  np.max(logits,-1, keepdims=True)\n",
        "\n",
        "\n",
        "\n",
        "    ##########################################################################\n",
        "    #                            END OF YOUR CODE                            #\n",
        "    ##########################################################################\n",
        "    return c + np.log(np.sum(np.exp(logits-c),-1, keepdims= True))\n",
        "\n",
        "  return np.exp(logits - log_sum_exp(logits))"
      ],
      "metadata": {
        "id": "gS9w0pVRtK5x"
      },
      "execution_count": null,
      "outputs": []
    },
    {
      "cell_type": "code",
      "source": [
        "# Create random logits that the naive softmax function should be able to compute easily\n",
        "np.random.seed(1234)\n",
        "logits = np.random.normal(0,1, (5,3))\n",
        "print(logits)\n",
        "print(\"Using naive softmax:\\n\",softmax_function(logits))\n",
        "print(\"Using Better softmax function:\\n\",better_softmax_function(logits))"
      ],
      "metadata": {
        "id": "AJxf0abIPzoz",
        "colab": {
          "base_uri": "https://localhost:8080/"
        },
        "outputId": "3a38544f-3f3b-49c6-d62c-fe395291fbf2"
      },
      "execution_count": null,
      "outputs": [
        {
          "output_type": "stream",
          "name": "stdout",
          "text": [
            "[[ 0.47143516 -1.19097569  1.43270697]\n",
            " [-0.3126519  -0.72058873  0.88716294]\n",
            " [ 0.85958841 -0.6365235   0.01569637]\n",
            " [-2.24268495  1.15003572  0.99194602]\n",
            " [ 0.95332413 -2.02125482 -0.33407737]]\n",
            "Using naive softmax:\n",
            " [[0.26283272 0.04985441 0.68731287]\n",
            " [0.200621   0.13341715 0.66596185]\n",
            " [0.60458288 0.1354262  0.25999092]\n",
            " [0.01781141 0.52983212 0.45235646]\n",
            " [0.75354774 0.03848288 0.20796938]]\n",
            "Using Better softmax function:\n",
            " [[0.26283272 0.04985441 0.68731287]\n",
            " [0.200621   0.13341715 0.66596185]\n",
            " [0.60458288 0.1354262  0.25999092]\n",
            " [0.01781141 0.52983212 0.45235646]\n",
            " [0.75354774 0.03848288 0.20796938]]\n"
          ]
        }
      ]
    },
    {
      "cell_type": "code",
      "source": [
        "# Create logits with large values and observe what the naive softmax produces as opposed the better softmax function\n",
        "np.random.seed(1234)\n",
        "big_logits = np.random.randint(1000, 2000, size=(5,3))\n",
        "big_logits"
      ],
      "metadata": {
        "id": "E25MpehlPZLd",
        "colab": {
          "base_uri": "https://localhost:8080/"
        },
        "outputId": "e6a0a692-d472-473d-ab2e-545a1e8b3fa3"
      },
      "execution_count": null,
      "outputs": [
        {
          "output_type": "execute_result",
          "data": {
            "text/plain": [
              "array([[1815, 1723, 1294],\n",
              "       [1053, 1204, 1372],\n",
              "       [1664, 1655, 1689],\n",
              "       [1279, 1233, 1154],\n",
              "       [1030, 1683, 1158]])"
            ]
          },
          "metadata": {},
          "execution_count": 20
        }
      ]
    },
    {
      "cell_type": "code",
      "source": [
        "softmax_function(big_logits)"
      ],
      "metadata": {
        "id": "e6BlpqCfP3Fe",
        "colab": {
          "base_uri": "https://localhost:8080/"
        },
        "outputId": "3a9e07c3-1c28-437a-d031-82b98a9f5b30"
      },
      "execution_count": null,
      "outputs": [
        {
          "output_type": "stream",
          "name": "stderr",
          "text": [
            "<ipython-input-18-fa58743a92e0>:13: RuntimeWarning: overflow encountered in exp\n",
            "  soft_res = np.exp(logits)/(np.sum(np.exp(logits),-1,keepdims=True))\n",
            "<ipython-input-18-fa58743a92e0>:13: RuntimeWarning: invalid value encountered in divide\n",
            "  soft_res = np.exp(logits)/(np.sum(np.exp(logits),-1,keepdims=True))\n"
          ]
        },
        {
          "output_type": "execute_result",
          "data": {
            "text/plain": [
              "array([[nan, nan, nan],\n",
              "       [nan, nan, nan],\n",
              "       [nan, nan, nan],\n",
              "       [nan, nan, nan],\n",
              "       [nan, nan, nan]])"
            ]
          },
          "metadata": {},
          "execution_count": 21
        }
      ]
    },
    {
      "cell_type": "code",
      "source": [
        "better_softmax_function(big_logits)"
      ],
      "metadata": {
        "id": "o90mS-sRP6zA",
        "colab": {
          "base_uri": "https://localhost:8080/"
        },
        "outputId": "d373419b-f480-4531-f88d-64a3e5e634eb"
      },
      "execution_count": null,
      "outputs": [
        {
          "output_type": "execute_result",
          "data": {
            "text/plain": [
              "array([[1.00000000e+000, 1.10893902e-040, 5.40225311e-227],\n",
              "       [2.88443179e-139, 1.09276566e-073, 1.00000000e+000],\n",
              "       [1.38879439e-011, 1.71390843e-015, 1.00000000e+000],\n",
              "       [1.00000000e+000, 1.05306174e-020, 5.16642063e-055],\n",
              "       [2.54509101e-284, 1.00000000e+000, 9.89457172e-229]])"
            ]
          },
          "metadata": {},
          "execution_count": 22
        }
      ]
    },
    {
      "cell_type": "code",
      "source": [
        "# Create logits with very small values and observe what the naive softmax function produces as opposed to the better softmax function\n",
        "np.random.seed(1234)\n",
        "small_logits = np.random.randint(-2000, -1000, size = (5,3))\n",
        "small_logits"
      ],
      "metadata": {
        "id": "PCk1zwIAP7ni",
        "colab": {
          "base_uri": "https://localhost:8080/"
        },
        "outputId": "d55a9b2f-edc8-4907-aaca-b60210fb7258"
      },
      "execution_count": null,
      "outputs": [
        {
          "output_type": "execute_result",
          "data": {
            "text/plain": [
              "array([[-1185, -1277, -1706],\n",
              "       [-1947, -1796, -1628],\n",
              "       [-1336, -1345, -1311],\n",
              "       [-1721, -1767, -1846],\n",
              "       [-1970, -1317, -1842]])"
            ]
          },
          "metadata": {},
          "execution_count": 23
        }
      ]
    },
    {
      "cell_type": "code",
      "source": [
        "softmax_function(small_logits)"
      ],
      "metadata": {
        "id": "CZotmBkmRMKE",
        "colab": {
          "base_uri": "https://localhost:8080/"
        },
        "outputId": "1d1e195e-7baa-4167-feb4-4baf2eeaac4e"
      },
      "execution_count": null,
      "outputs": [
        {
          "output_type": "stream",
          "name": "stderr",
          "text": [
            "<ipython-input-18-fa58743a92e0>:13: RuntimeWarning: invalid value encountered in divide\n",
            "  soft_res = np.exp(logits)/(np.sum(np.exp(logits),-1,keepdims=True))\n"
          ]
        },
        {
          "output_type": "execute_result",
          "data": {
            "text/plain": [
              "array([[nan, nan, nan],\n",
              "       [nan, nan, nan],\n",
              "       [nan, nan, nan],\n",
              "       [nan, nan, nan],\n",
              "       [nan, nan, nan]])"
            ]
          },
          "metadata": {},
          "execution_count": 24
        }
      ]
    },
    {
      "cell_type": "code",
      "source": [
        "better_softmax_function(small_logits)"
      ],
      "metadata": {
        "id": "5NhuBeKHSNHz",
        "colab": {
          "base_uri": "https://localhost:8080/"
        },
        "outputId": "d6782daa-43b7-49dd-e1f9-dacd94abfd83"
      },
      "execution_count": null,
      "outputs": [
        {
          "output_type": "execute_result",
          "data": {
            "text/plain": [
              "array([[1.00000000e+000, 1.10893902e-040, 5.40225311e-227],\n",
              "       [2.88443179e-139, 1.09276566e-073, 1.00000000e+000],\n",
              "       [1.38879439e-011, 1.71390843e-015, 1.00000000e+000],\n",
              "       [1.00000000e+000, 1.05306174e-020, 5.16642063e-055],\n",
              "       [2.54509101e-284, 1.00000000e+000, 9.89457172e-229]])"
            ]
          },
          "metadata": {},
          "execution_count": 25
        }
      ]
    },
    {
      "cell_type": "markdown",
      "source": [
        "# Gaussian Distributions"
      ],
      "metadata": {
        "id": "zTGMfRxKtMmW"
      }
    },
    {
      "cell_type": "code",
      "source": [
        "scalar = typing.Union[float, int]"
      ],
      "metadata": {
        "id": "fcfKc3E89maE"
      },
      "execution_count": null,
      "outputs": []
    },
    {
      "cell_type": "markdown",
      "source": [
        "\n",
        "Write a function to compute the probability density function for a univariate gaussian distribution.\n",
        "$$\n",
        "p(x| \\mu, \\sigma) = \\frac{1}{\\sqrt{2\\pi\\sigma^2}}\\exp\\left(-\\frac{1}{2\\sigma^2}(x-\\mu)^2 \\right)\n",
        "$$"
      ],
      "metadata": {
        "id": "6Qj6Hkm0DUoi"
      }
    },
    {
      "cell_type": "code",
      "source": [
        "def univariate_gaussian_pdf(x: np.ndarray,\n",
        "                            mu: scalar,\n",
        "                            sigma: scalar):\n",
        "  \"\"\"Computes the probability density function for a univariate gaussian distribution\n",
        "  Args:\n",
        "    x: the feature variable\n",
        "    mu: the mean value\n",
        "    sigma: the standard deviation value\n",
        "\n",
        "  Returns:\n",
        "    prob: the probability density function\n",
        "  \"\"\"\n",
        "  ##########################################################################\n",
        "  #                      TODO: Implement this function                     #\n",
        "  ##########################################################################\n",
        "  # Replace \"pass\" statement with your code\n",
        "  prob = 1/np.sqrt(2*np.pi*sigma**2)*np.exp(-(1/2*sigma**2)*(x-mu)**2)\n",
        "  ##########################################################################\n",
        "  #                            END OF YOUR CODE                            #\n",
        "  ##########################################################################\n",
        "  return prob"
      ],
      "metadata": {
        "id": "C_YilqxgtSbh"
      },
      "execution_count": null,
      "outputs": []
    },
    {
      "cell_type": "code",
      "source": [
        "x = np.linspace(-5, 5, 100)\n",
        "mean, sigma = 0., 0.7\n",
        "y = univariate_gaussian_pdf(x, mean, sigma)"
      ],
      "metadata": {
        "id": "0kAndqGD-iSl"
      },
      "execution_count": null,
      "outputs": []
    },
    {
      "cell_type": "code",
      "source": [
        "def plot_univariate_gaussian(x: np.ndarray):\n",
        "  y = univariate_gaussian_pdf(x, mean, sigma)\n",
        "  plt.plot(x, y)\n",
        "  plt.plot(mean, 0, marker=\"x\", markeredgecolor=\"red\")\n",
        "  plt.title(\"Univariate Gaussian\")\n",
        "\n",
        "plot_univariate_gaussian(x)"
      ],
      "metadata": {
        "id": "JnwNTCnu_Qse",
        "colab": {
          "base_uri": "https://localhost:8080/",
          "height": 452
        },
        "outputId": "d49874e3-719d-4669-d99b-21267cca6afc"
      },
      "execution_count": null,
      "outputs": [
        {
          "output_type": "display_data",
          "data": {
            "text/plain": [
              "<Figure size 640x480 with 1 Axes>"
            ],
            "image/png": "[encoded data removed]"
          },
          "metadata": {}
        }
      ]
    },
    {
      "cell_type": "markdown",
      "source": [
        "Write a function that computes the probability density function for a  multivariate Gaussian distribution\n",
        "\n",
        "$$\n",
        "\\mathcal{N}(y|\\mu, Σ) = \\frac{1}{(2\\pi)^{D/2}|Σ|}\\exp\\left(-\\frac{1}{2}(y-\\mu)^TΣ^{-1}(y-\\mu)\\right)\n",
        "$$"
      ],
      "metadata": {
        "id": "cxkAI2soTBsP"
      }
    },
    {
      "cell_type": "code",
      "source": [
        "def multivariate_gaussian_pdf(X: np.ndarray,\n",
        "                              mean: np.ndarray,\n",
        "                              covariance: np.ndarray):\n",
        "  \"\"\"Multivariate Gaussian PDF\"\"\"\n",
        "  D = X.shape[0]\n",
        "  ##########################################################################\n",
        "  #                      TODO: Implement this function                     #\n",
        "  ##########################################################################\n",
        "  # Replace \"pass\" statement with your code\n",
        "  prob = 1/((2*np.pi)**(D/2)*np.linalg.det(covariance))*np.exp(-0.5*(X-mean).T@np.linalg.inv(covariance)@(X-mean))\n",
        "  ##########################################################################\n",
        "  #                            END OF YOUR CODE                            #\n",
        "  ##########################################################################\n",
        "  return prob"
      ],
      "metadata": {
        "id": "y0NngiOHrU-d"
      },
      "execution_count": null,
      "outputs": []
    },
    {
      "cell_type": "markdown",
      "source": [
        "# Maximum Likelihood Estimation - For Normal Distribution\n",
        "\n",
        "We consider a linear regression problem of the form\n",
        "$$\n",
        "y = \\boldsymbol x^T\\boldsymbol\\theta + \\epsilon\\,,\\quad \\epsilon \\sim \\mathcal N(0, \\sigma^2)\n",
        "$$\n",
        "where $\\boldsymbol x\\in\\mathbb{R}^D$ are inputs and $y\\in\\mathbb{R}$ are noisy observations. The parameter vector $\\boldsymbol\\theta\\in\\mathbb{R}^D$ parametrizes the function.\n",
        "\n",
        "We assume we have a training set $(\\boldsymbol x_n, y_n)$, $n=1,\\ldots, N$. We summarize the sets of training inputs in $\\mathcal X = \\{\\boldsymbol x_1, \\ldots, \\boldsymbol x_N\\}$ and corresponding training targets $\\mathcal Y = \\{y_1, \\ldots, y_N\\}$, respectively.\n",
        "\n",
        "In this tutorial, we are interested in finding good parameters $\\boldsymbol\\theta$."
      ],
      "metadata": {
        "id": "k07-vh4Lpj-y"
      }
    },
    {
      "cell_type": "code",
      "source": [
        "# Define training set\n",
        "X = np.array([-3, -1, 0, 1, 3]).reshape(-1,1) # 5x1 vector, N=5, D=1\n",
        "y = np.array([-1.2, -0.7, 0.14, 0.67, 1.67]).reshape(-1,1) # 5x1 vector\n",
        "\n",
        "# Plot the training set\n",
        "plt.figure()\n",
        "plt.plot(X, y, 'o', markersize=10)\n",
        "plt.xlabel(\"$x$\")\n",
        "plt.ylabel(\"$y$\");"
      ],
      "metadata": {
        "id": "fADhU6Espy_g",
        "colab": {
          "base_uri": "https://localhost:8080/",
          "height": 449
        },
        "outputId": "1bfb6775-5ba2-46c8-dcfa-2b480daeb16d"
      },
      "execution_count": null,
      "outputs": [
        {
          "output_type": "display_data",
          "data": {
            "text/plain": [
              "<Figure size 640x480 with 1 Axes>"
            ],
            "image/png": "[encoded data removed]"
          },
          "metadata": {}
        }
      ]
    },
    {
      "cell_type": "markdown",
      "source": [
        "We will start with maximum likelihood estimation of the parameters $\\boldsymbol\\theta$. In maximum likelihood estimation, we find the parameters $\\boldsymbol\\theta^{\\mathrm{ML}}$ that maximize the likelihood\n",
        "$$\n",
        "p(\\mathcal Y | \\mathcal X, \\boldsymbol\\theta) = \\prod_{n=1}^N p(y_n | \\boldsymbol x_n, \\boldsymbol\\theta)\\,.\n",
        "$$\n",
        "From the lecture we know that the maximum likelihood estimator is given by\n",
        "$$\n",
        "\\boldsymbol\\theta^{\\text{ML}} = (\\boldsymbol X^T\\boldsymbol X)^{-1}\\boldsymbol X^T\\boldsymbol y\\in\\mathbb{R}^D\\,,\n",
        "$$\n",
        "where\n",
        "$$\n",
        "\\boldsymbol X = [\\boldsymbol x_1, \\ldots, \\boldsymbol x_N]^T\\in\\mathbb{R}^{N\\times D}\\,,\\quad \\boldsymbol y = [y_1, \\ldots, y_N]^T \\in\\mathbb{R}^N\\,.\n",
        "$$"
      ],
      "metadata": {
        "id": "MKIqNEocqCen"
      }
    },
    {
      "cell_type": "code",
      "source": [
        "def maximum_likelihood_estimate(X: np.ndarray, y: np.ndarray):\n",
        "\n",
        "    # X: N x D matrix of training inputs\n",
        "    # y: N x 1 vector of training targets/observations\n",
        "    # returns: maximum likelihood parameters (D x 1)\n",
        "\n",
        "    N, D = X.shape\n",
        "    ##########################################################################\n",
        "    #                      TODO: Implement this function                     #\n",
        "    ##########################################################################\n",
        "    # Replace \"pass\" statement with your code\n",
        "\n",
        "\n",
        "    maximum = np.linalg.inv((X.T@X))@X.T@y\n",
        "    ##########################################################################\n",
        "    #                            END OF YOUR CODE                            #\n",
        "    ##########################################################################\n",
        "    return maximum"
      ],
      "metadata": {
        "id": "uwNpy6KFqHI-"
      },
      "execution_count": null,
      "outputs": []
    },
    {
      "cell_type": "code",
      "source": [
        "# get maximum likelihood estimate\n",
        "theta_ml = maximum_likelihood_estimate(X,y)# Write your code here.\n",
        "print(theta_ml)\n"
      ],
      "metadata": {
        "id": "trIpwnAcqKHQ",
        "colab": {
          "base_uri": "https://localhost:8080/"
        },
        "outputId": "2bbba13f-19ad-4138-a1d4-d5057a886a1a"
      },
      "execution_count": null,
      "outputs": [
        {
          "output_type": "stream",
          "name": "stdout",
          "text": [
            "[[0.499]]\n"
          ]
        }
      ]
    },
    {
      "cell_type": "code",
      "source": [
        "def predict_with_estimate(Xtest: np.ndarray, theta: np.ndarray):\n",
        "\n",
        "    # Xtest: K x D matrix of test inputs\n",
        "    # theta: D x 1 vector of parameters\n",
        "    # returns: prediction of f(Xtest); K x 1 vector\n",
        "\n",
        "    ##########################################################################\n",
        "    #                      TODO: Implement this function                     #\n",
        "    ##########################################################################\n",
        "    # Replace \"pass\" statement with your code\n",
        "    pass\n",
        "    prediction = Xtest*theta_ml\n",
        "    ##########################################################################\n",
        "    #                            END OF YOUR CODE                            #\n",
        "    ##########################################################################\n",
        "    return prediction"
      ],
      "metadata": {
        "id": "jWHdT2t5qNv9"
      },
      "execution_count": null,
      "outputs": []
    },
    {
      "cell_type": "code",
      "source": [
        "# define a test set\n",
        "Xtest = np.linspace(-5,5,100).reshape(-1,1) # 100 x 1 vector of test inputs\n",
        "\n",
        "# predict the function values at the test points using the maximum likelihood estimator\n",
        "ml_prediction = predict_with_estimate(Xtest, theta_ml)\n",
        "\n",
        "assert not np.array_equal(ml_prediction, Xtest), \"predict_with_estimate not implemented\"\n",
        "\n",
        "# plot\n",
        "plt.figure()\n",
        "plt.plot(X, y, 'o', markersize=10)\n",
        "plt.plot(Xtest, ml_prediction)\n",
        "plt.xlabel(\"$x$\")\n",
        "plt.ylabel(\"$y$\")"
      ],
      "metadata": {
        "id": "oOeuxBgFqSWn",
        "colab": {
          "base_uri": "https://localhost:8080/",
          "height": 467
        },
        "outputId": "1c2b8642-4e49-4699-e4a1-b36a7fc5617d"
      },
      "execution_count": null,
      "outputs": [
        {
          "output_type": "execute_result",
          "data": {
            "text/plain": [
              "Text(0, 0.5, '$y$')"
            ]
          },
          "metadata": {},
          "execution_count": 39
        },
        {
          "output_type": "display_data",
          "data": {
            "text/plain": [
              "<Figure size 640x480 with 1 Axes>"
            ],
            "image/png": "[encoded data removed]"
          },
          "metadata": {}
        }
      ]
    },
    {
      "cell_type": "code",
      "source": [],
      "metadata": {
        "id": "kKBb-OvPrXBh"
      },
      "execution_count": null,
      "outputs": []
    }
  ]
}